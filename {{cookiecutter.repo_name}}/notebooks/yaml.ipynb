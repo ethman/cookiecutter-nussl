{
 "cells": [
  {
   "cell_type": "code",
   "execution_count": 11,
   "metadata": {},
   "outputs": [],
   "source": [
    "import yaml\n",
    "from nussl.deep import SeparationModel"
   ]
  },
  {
   "cell_type": "code",
   "execution_count": 18,
   "metadata": {},
   "outputs": [],
   "source": [
    "\n",
    "base_parameters = {\n",
    "    'dataset_config': { # Configuration of dataset - STFT parameters, etc.\n",
    "        'n_fft': 256,\n",
    "        'hop_length': 64,\n",
    "        'length': 400,\n",
    "        'output_type': 'psa',\n",
    "        'cache': '/storage/cache',\n",
    "        'fraction_of_dataset': 1.0,\n",
    "        'weight_type': ['magnitude'],\n",
    "        'weight_threshold': -40,\n",
    "        'num_channels': 1,\n",
    "        'source_labels': [],\n",
    "        'ignore_sources': [],\n",
    "        'group_sources': [],\n",
    "        'format': 'rnn',\n",
    "        'sample_rate': 8000,\n",
    "        'data_keys_for_training': ['log_spectrogram', 'assignments', 'weights'],\n",
    "        'use_librosa_stft': False,\n",
    "        'excerpt_selection_strategy': 'random',\n",
    "        'overwrite_cache': False\n",
    "    },\n",
    "    'model_config': { # Model configuration (deep clustering model here)\n",
    "        'num_frequencies': 128,\n",
    "        'num_mels': -1,\n",
    "        'num_channels': 1,\n",
    "        'sample_rate': 8000,\n",
    "        'bidirectional': True,\n",
    "        'hidden_size': 300,\n",
    "        'num_layers': 2,\n",
    "        'embedding_size': 20,\n",
    "        'dropout': 0.3,\n",
    "        'embedding_activations': ['sigmoid', 'unit_norm'],\n",
    "        'projection_trainable': False,\n",
    "        'rnn_type': 'lstm',\n",
    "        'instance_norm': True,\n",
    "        'batch_norm': False,\n",
    "    },\n",
    "    'train_config': { # Training configuration (won't need much changing)\n",
    "        'num_epochs': 10,\n",
    "        'learning_rate': 2e-4,\n",
    "        'learning_rate_decay': 0.5,\n",
    "        'patience': 5,\n",
    "        'batch_size': 40,\n",
    "        'num_workers': 20,\n",
    "        'loss_function': [('dpcl', 'embedding', 1.0)],\n",
    "        'optimizer': 'adam',\n",
    "        'curriculum_learning': [],\n",
    "        'initial_length': 400,\n",
    "        'weight_decay': 0.0,\n",
    "        'device': 'cuda',\n",
    "        'data_parallel': True,\n",
    "        'training_folder': '',\n",
    "        'validation_folder': '',\n",
    "        'sample_strategy': 'sequential',\n",
    "        'curriculum_learning': [ # Way to do things at different epochs.\n",
    "            {'num_epoch': 0, 'command': 'set_current_length', 'args': [400]},\n",
    "        ],\n",
    "    },\n",
    "    'dataset_paths': {\n",
    "        'train_folder': '/storage/data/babywsj8k/generated/train/', # What to train from\n",
    "        'val_folder': '/storage/data/babywsj8k/generated/val/', # What to validate on\n",
    "        'test_folder': '/storage/data/babywsj8k/generated/test/', # What to evaluate on\n",
    "    },\n",
    "    'info': {\n",
    "        'project_name': 'Tutorial', # What is the comet.ml project this experiment belongs to?\n",
    "        'worksheet_name': 'Tutorial', # What worksheet within the Google sheet should I save this to?\n",
    "        'sheet_name': 'Toy experimental results', # What Google sheet should I put this in?\n",
    "        'num_gpus': 1, # How many GPUs to use?\n",
    "        'cache_populated': True,\n",
    "        'test_dataset_type': 'SCAPER', # Dataset type for testing\n",
    "        'train': True,\n",
    "        'test': True,\n",
    "        'blocking': False,\n",
    "        'num_test_workers': 25,\n",
    "    },\n",
    "    'dataset_type': 'SCAPER', # Dataset type for training\n",
    "    'val_dataset_type': 'SCAPER', # Dataset type for validation\n",
    "    'algorithm_config': {\n",
    "        'name': 'DeepClustering',\n",
    "        'params': {\n",
    "            'mask_type': 'soft', \n",
    "            'clustering_options': {\n",
    "                'posterior_alpha': 5.0,\n",
    "            },\n",
    "            'percentile': 99,\n",
    "            'enhancement_amount': 0.0,\n",
    "            'num_sources': 2\n",
    "        }\n",
    "    }\n",
    "}\n"
   ]
  },
  {
   "cell_type": "code",
   "execution_count": 28,
   "metadata": {},
   "outputs": [],
   "source": [
    "with open('../experiments/data.yml', 'r') as f:\n",
    "    d = yaml.load(f, Loader=yaml.FullLoader)"
   ]
  },
  {
   "cell_type": "code",
   "execution_count": 29,
   "metadata": {},
   "outputs": [
    {
     "data": {
      "text/plain": [
       "{'mixture_parameters': {'train': {'num_mixtures': 1200,\n",
       "   'foreground_path': 'babywsj8k/dev',\n",
       "   'background_path': 'None',\n",
       "   'target_path': 'babywsj8k/generated/train',\n",
       "   'scene_duration': 5,\n",
       "   'num_sources': 2},\n",
       "  'val': {'num_mixtures': 120,\n",
       "   'foreground_path': 'babywsj8k/dev',\n",
       "   'background_path': 'None',\n",
       "   'target_path': 'babywsj8k/generated/val',\n",
       "   'scene_duration': 5,\n",
       "   'num_sources': 2},\n",
       "  'test': {'num_mixtures': 120,\n",
       "   'foreground_path': 'babywsj8k/dev',\n",
       "   'background_path': 'None',\n",
       "   'target_path': 'babywsj8k/generated/test',\n",
       "   'scene_duration': 5,\n",
       "   'num_sources': 2}},\n",
       " 'event_parameters': {'label': ('choose', []),\n",
       "  'source_file': ('choose', []),\n",
       "  'source_time': ('const', 0),\n",
       "  'event_time': ('const', 0),\n",
       "  'event_duration': ('const', 5),\n",
       "  'snr': ('uniform', -2.5, 2.5),\n",
       "  'pitch_shift': None,\n",
       "  'time_stretch': None},\n",
       " 'sample_rate': 8000,\n",
       " 'ref_db': -40,\n",
       " 'bitdepth': 16,\n",
       " 'seed': 0}"
      ]
     },
     "execution_count": 29,
     "metadata": {},
     "output_type": "execute_result"
    }
   ],
   "source": [
    "d"
   ]
  },
  {
   "cell_type": "code",
   "execution_count": 22,
   "metadata": {},
   "outputs": [],
   "source": [
    "with open('../experiments/example.yml', 'w') as f:\n",
    "    yaml.dump(base_parameters, f, Dumper=yaml.Dumper)"
   ]
  },
  {
   "cell_type": "code",
   "execution_count": 24,
   "metadata": {},
   "outputs": [],
   "source": [
    "from nussl.separation import all_separation_algorithms"
   ]
  }
 ],
 "metadata": {
  "kernelspec": {
   "display_name": "Python 3",
   "language": "python",
   "name": "python3"
  },
  "language_info": {
   "codemirror_mode": {
    "name": "ipython",
    "version": 3
   },
   "file_extension": ".py",
   "mimetype": "text/x-python",
   "name": "python",
   "nbconvert_exporter": "python",
   "pygments_lexer": "ipython3",
   "version": "3.7.3"
  }
 },
 "nbformat": 4,
 "nbformat_minor": 2
}
